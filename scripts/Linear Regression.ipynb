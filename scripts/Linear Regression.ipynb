{
 "cells": [
  {
   "cell_type": "markdown",
   "metadata": {},
   "source": [
    "# Research on Measuring Genome Containment\n",
    "## Hannah Mannering \n",
    "\n",
    "Below is my script for creating logistic regression to predict, IDY, which is the known identity of genome containment between any two genomes. \n",
    "\n",
    "My script also evaluates if my equation performs better than MASH identity computation. "
   ]
  },
  {
   "cell_type": "code",
   "execution_count": 1,
   "metadata": {},
   "outputs": [],
   "source": [
    "# import necessary things\n",
    "import pandas as pd\n",
    "# read in output from our mash\n",
    "data = pd.read_csv(\"data_testing_meta_NEW.csv\")"
   ]
  },
  {
   "cell_type": "code",
   "execution_count": 2,
   "metadata": {},
   "outputs": [
    {
     "data": {
      "text/html": [
       "<div>\n",
       "<style scoped>\n",
       "    .dataframe tbody tr th:only-of-type {\n",
       "        vertical-align: middle;\n",
       "    }\n",
       "\n",
       "    .dataframe tbody tr th {\n",
       "        vertical-align: top;\n",
       "    }\n",
       "\n",
       "    .dataframe thead th {\n",
       "        text-align: right;\n",
       "    }\n",
       "</style>\n",
       "<table border=\"1\" class=\"dataframe\">\n",
       "  <thead>\n",
       "    <tr style=\"text-align: right;\">\n",
       "      <th></th>\n",
       "      <th>REF</th>\n",
       "      <th>QRY</th>\n",
       "      <th>IDY</th>\n",
       "      <th>COV</th>\n",
       "      <th>MASHCOV</th>\n",
       "      <th>MASHFRAC</th>\n",
       "      <th>Unnamed: 6</th>\n",
       "      <th>Unnamed: 7</th>\n",
       "      <th>Unnamed: 8</th>\n",
       "    </tr>\n",
       "  </thead>\n",
       "  <tbody>\n",
       "    <tr>\n",
       "      <th>0</th>\n",
       "      <td>GCF_000273445</td>\n",
       "      <td>GCF_022070145</td>\n",
       "      <td>0.984479</td>\n",
       "      <td>10.000000</td>\n",
       "      <td>7.81944</td>\n",
       "      <td>0.720</td>\n",
       "      <td>NaN</td>\n",
       "      <td>NaN</td>\n",
       "      <td>NaN</td>\n",
       "    </tr>\n",
       "    <tr>\n",
       "      <th>1</th>\n",
       "      <td>GCF_000348705</td>\n",
       "      <td>GCF_022070145</td>\n",
       "      <td>0.989430</td>\n",
       "      <td>10.000000</td>\n",
       "      <td>7.95000</td>\n",
       "      <td>0.800</td>\n",
       "      <td>NaN</td>\n",
       "      <td>NaN</td>\n",
       "      <td>NaN</td>\n",
       "    </tr>\n",
       "    <tr>\n",
       "      <th>2</th>\n",
       "      <td>GCF_000448565</td>\n",
       "      <td>GCF_022070145</td>\n",
       "      <td>0.857890</td>\n",
       "      <td>10.000000</td>\n",
       "      <td>5.75000</td>\n",
       "      <td>0.040</td>\n",
       "      <td>NaN</td>\n",
       "      <td>NaN</td>\n",
       "      <td>NaN</td>\n",
       "    </tr>\n",
       "    <tr>\n",
       "      <th>3</th>\n",
       "      <td>GCF_000448605</td>\n",
       "      <td>GCF_022070145</td>\n",
       "      <td>0.830035</td>\n",
       "      <td>10.000000</td>\n",
       "      <td>6.00000</td>\n",
       "      <td>0.020</td>\n",
       "      <td>NaN</td>\n",
       "      <td>NaN</td>\n",
       "      <td>NaN</td>\n",
       "    </tr>\n",
       "    <tr>\n",
       "      <th>4</th>\n",
       "      <td>GCF_000448645</td>\n",
       "      <td>GCF_022070145</td>\n",
       "      <td>0.857890</td>\n",
       "      <td>10.000000</td>\n",
       "      <td>5.50000</td>\n",
       "      <td>0.040</td>\n",
       "      <td>NaN</td>\n",
       "      <td>NaN</td>\n",
       "      <td>NaN</td>\n",
       "    </tr>\n",
       "    <tr>\n",
       "      <th>...</th>\n",
       "      <td>...</td>\n",
       "      <td>...</td>\n",
       "      <td>...</td>\n",
       "      <td>...</td>\n",
       "      <td>...</td>\n",
       "      <td>...</td>\n",
       "      <td>...</td>\n",
       "      <td>...</td>\n",
       "      <td>...</td>\n",
       "    </tr>\n",
       "    <tr>\n",
       "      <th>1676</th>\n",
       "      <td>GCF_900795145</td>\n",
       "      <td>GCF_009497975</td>\n",
       "      <td>0.783786</td>\n",
       "      <td>0.715267</td>\n",
       "      <td>1.30556</td>\n",
       "      <td>0.360</td>\n",
       "      <td>NaN</td>\n",
       "      <td>NaN</td>\n",
       "      <td>NaN</td>\n",
       "    </tr>\n",
       "    <tr>\n",
       "      <th>1677</th>\n",
       "      <td>GCF_900795155</td>\n",
       "      <td>GCF_009497975</td>\n",
       "      <td>0.789561</td>\n",
       "      <td>0.715267</td>\n",
       "      <td>1.32353</td>\n",
       "      <td>0.340</td>\n",
       "      <td>NaN</td>\n",
       "      <td>NaN</td>\n",
       "      <td>NaN</td>\n",
       "    </tr>\n",
       "    <tr>\n",
       "      <th>1678</th>\n",
       "      <td>GCF_900795165</td>\n",
       "      <td>GCF_009497975</td>\n",
       "      <td>0.783786</td>\n",
       "      <td>0.715267</td>\n",
       "      <td>1.35294</td>\n",
       "      <td>0.340</td>\n",
       "      <td>NaN</td>\n",
       "      <td>NaN</td>\n",
       "      <td>NaN</td>\n",
       "    </tr>\n",
       "    <tr>\n",
       "      <th>1679</th>\n",
       "      <td>GCF_900795245</td>\n",
       "      <td>GCF_009497975</td>\n",
       "      <td>0.789561</td>\n",
       "      <td>0.715267</td>\n",
       "      <td>1.36890</td>\n",
       "      <td>0.328</td>\n",
       "      <td>NaN</td>\n",
       "      <td>NaN</td>\n",
       "      <td>NaN</td>\n",
       "    </tr>\n",
       "    <tr>\n",
       "      <th>1680</th>\n",
       "      <td>GCF_900795265</td>\n",
       "      <td>GCF_009497975</td>\n",
       "      <td>0.789561</td>\n",
       "      <td>0.715267</td>\n",
       "      <td>1.26471</td>\n",
       "      <td>0.340</td>\n",
       "      <td>NaN</td>\n",
       "      <td>NaN</td>\n",
       "      <td>NaN</td>\n",
       "    </tr>\n",
       "  </tbody>\n",
       "</table>\n",
       "<p>1681 rows × 9 columns</p>\n",
       "</div>"
      ],
      "text/plain": [
       "               REF             QRY       IDY        COV  MASHCOV  MASHFRAC  \\\n",
       "0     GCF_000273445  GCF_022070145  0.984479  10.000000  7.81944     0.720   \n",
       "1     GCF_000348705  GCF_022070145  0.989430  10.000000  7.95000     0.800   \n",
       "2     GCF_000448565  GCF_022070145  0.857890  10.000000  5.75000     0.040   \n",
       "3     GCF_000448605  GCF_022070145  0.830035  10.000000  6.00000     0.020   \n",
       "4     GCF_000448645  GCF_022070145  0.857890  10.000000  5.50000     0.040   \n",
       "...             ...            ...       ...        ...      ...       ...   \n",
       "1676  GCF_900795145  GCF_009497975  0.783786   0.715267  1.30556     0.360   \n",
       "1677  GCF_900795155  GCF_009497975  0.789561   0.715267  1.32353     0.340   \n",
       "1678  GCF_900795165  GCF_009497975  0.783786   0.715267  1.35294     0.340   \n",
       "1679  GCF_900795245  GCF_009497975  0.789561   0.715267  1.36890     0.328   \n",
       "1680  GCF_900795265  GCF_009497975  0.789561   0.715267  1.26471     0.340   \n",
       "\n",
       "      Unnamed: 6  Unnamed: 7  Unnamed: 8  \n",
       "0            NaN         NaN         NaN  \n",
       "1            NaN         NaN         NaN  \n",
       "2            NaN         NaN         NaN  \n",
       "3            NaN         NaN         NaN  \n",
       "4            NaN         NaN         NaN  \n",
       "...          ...         ...         ...  \n",
       "1676         NaN         NaN         NaN  \n",
       "1677         NaN         NaN         NaN  \n",
       "1678         NaN         NaN         NaN  \n",
       "1679         NaN         NaN         NaN  \n",
       "1680         NaN         NaN         NaN  \n",
       "\n",
       "[1681 rows x 9 columns]"
      ]
     },
     "execution_count": 2,
     "metadata": {},
     "output_type": "execute_result"
    }
   ],
   "source": [
    "# see what data is\n",
    "data.head()"
   ]
  },
  {
   "cell_type": "code",
   "execution_count": 7,
   "metadata": {},
   "outputs": [],
   "source": [
    "# drop unnecessary columns\n",
    "data = data.drop([\"Unnamed: 6\",\"Unnamed: 7\",\"Unnamed: 8\"], axis=1)"
   ]
  },
  {
   "cell_type": "code",
   "execution_count": 11,
   "metadata": {},
   "outputs": [],
   "source": [
    "# split dataset in features and target variable\n",
    "X = data[['MASHCOV','MASHFRAC']]\n",
    "y = data['IDY']"
   ]
  },
  {
   "cell_type": "code",
   "execution_count": 13,
   "metadata": {},
   "outputs": [
    {
     "name": "stderr",
     "output_type": "stream",
     "text": [
      "/opt/conda/envs/python_CS703_f22/lib/python3.10/site-packages/scipy/__init__.py:146: UserWarning: A NumPy version >=1.16.5 and <1.23.0 is required for this version of SciPy (detected version 1.23.1\n",
      "  warnings.warn(f\"A NumPy version >={np_minversion} and <{np_maxversion}\"\n"
     ]
    }
   ],
   "source": [
    "# split X and y into training and testing sets\n",
    "from sklearn.model_selection import train_test_split\n",
    "\n",
    "X_train, X_test, y_train, y_test = train_test_split(X, y, test_size=0.25, random_state=16)"
   ]
  },
  {
   "cell_type": "code",
   "execution_count": 18,
   "metadata": {},
   "outputs": [
    {
     "data": {
      "text/html": [
       "<style>#sk-container-id-1 {color: black;background-color: white;}#sk-container-id-1 pre{padding: 0;}#sk-container-id-1 div.sk-toggleable {background-color: white;}#sk-container-id-1 label.sk-toggleable__label {cursor: pointer;display: block;width: 100%;margin-bottom: 0;padding: 0.3em;box-sizing: border-box;text-align: center;}#sk-container-id-1 label.sk-toggleable__label-arrow:before {content: \"▸\";float: left;margin-right: 0.25em;color: #696969;}#sk-container-id-1 label.sk-toggleable__label-arrow:hover:before {color: black;}#sk-container-id-1 div.sk-estimator:hover label.sk-toggleable__label-arrow:before {color: black;}#sk-container-id-1 div.sk-toggleable__content {max-height: 0;max-width: 0;overflow: hidden;text-align: left;background-color: #f0f8ff;}#sk-container-id-1 div.sk-toggleable__content pre {margin: 0.2em;color: black;border-radius: 0.25em;background-color: #f0f8ff;}#sk-container-id-1 input.sk-toggleable__control:checked~div.sk-toggleable__content {max-height: 200px;max-width: 100%;overflow: auto;}#sk-container-id-1 input.sk-toggleable__control:checked~label.sk-toggleable__label-arrow:before {content: \"▾\";}#sk-container-id-1 div.sk-estimator input.sk-toggleable__control:checked~label.sk-toggleable__label {background-color: #d4ebff;}#sk-container-id-1 div.sk-label input.sk-toggleable__control:checked~label.sk-toggleable__label {background-color: #d4ebff;}#sk-container-id-1 input.sk-hidden--visually {border: 0;clip: rect(1px 1px 1px 1px);clip: rect(1px, 1px, 1px, 1px);height: 1px;margin: -1px;overflow: hidden;padding: 0;position: absolute;width: 1px;}#sk-container-id-1 div.sk-estimator {font-family: monospace;background-color: #f0f8ff;border: 1px dotted black;border-radius: 0.25em;box-sizing: border-box;margin-bottom: 0.5em;}#sk-container-id-1 div.sk-estimator:hover {background-color: #d4ebff;}#sk-container-id-1 div.sk-parallel-item::after {content: \"\";width: 100%;border-bottom: 1px solid gray;flex-grow: 1;}#sk-container-id-1 div.sk-label:hover label.sk-toggleable__label {background-color: #d4ebff;}#sk-container-id-1 div.sk-serial::before {content: \"\";position: absolute;border-left: 1px solid gray;box-sizing: border-box;top: 0;bottom: 0;left: 50%;z-index: 0;}#sk-container-id-1 div.sk-serial {display: flex;flex-direction: column;align-items: center;background-color: white;padding-right: 0.2em;padding-left: 0.2em;position: relative;}#sk-container-id-1 div.sk-item {position: relative;z-index: 1;}#sk-container-id-1 div.sk-parallel {display: flex;align-items: stretch;justify-content: center;background-color: white;position: relative;}#sk-container-id-1 div.sk-item::before, #sk-container-id-1 div.sk-parallel-item::before {content: \"\";position: absolute;border-left: 1px solid gray;box-sizing: border-box;top: 0;bottom: 0;left: 50%;z-index: -1;}#sk-container-id-1 div.sk-parallel-item {display: flex;flex-direction: column;z-index: 1;position: relative;background-color: white;}#sk-container-id-1 div.sk-parallel-item:first-child::after {align-self: flex-end;width: 50%;}#sk-container-id-1 div.sk-parallel-item:last-child::after {align-self: flex-start;width: 50%;}#sk-container-id-1 div.sk-parallel-item:only-child::after {width: 0;}#sk-container-id-1 div.sk-dashed-wrapped {border: 1px dashed gray;margin: 0 0.4em 0.5em 0.4em;box-sizing: border-box;padding-bottom: 0.4em;background-color: white;}#sk-container-id-1 div.sk-label label {font-family: monospace;font-weight: bold;display: inline-block;line-height: 1.2em;}#sk-container-id-1 div.sk-label-container {text-align: center;}#sk-container-id-1 div.sk-container {/* jupyter's `normalize.less` sets `[hidden] { display: none; }` but bootstrap.min.css set `[hidden] { display: none !important; }` so we also need the `!important` here to be able to override the default hidden behavior on the sphinx rendered scikit-learn.org. See: https://github.com/scikit-learn/scikit-learn/issues/21755 */display: inline-block !important;position: relative;}#sk-container-id-1 div.sk-text-repr-fallback {display: none;}</style><div id=\"sk-container-id-1\" class=\"sk-top-container\"><div class=\"sk-text-repr-fallback\"><pre>LinearRegression()</pre><b>In a Jupyter environment, please rerun this cell to show the HTML representation or trust the notebook. <br />On GitHub, the HTML representation is unable to render, please try loading this page with nbviewer.org.</b></div><div class=\"sk-container\" hidden><div class=\"sk-item\"><div class=\"sk-estimator sk-toggleable\"><input class=\"sk-toggleable__control sk-hidden--visually\" id=\"sk-estimator-id-1\" type=\"checkbox\" checked><label for=\"sk-estimator-id-1\" class=\"sk-toggleable__label sk-toggleable__label-arrow\">LinearRegression</label><div class=\"sk-toggleable__content\"><pre>LinearRegression()</pre></div></div></div></div></div>"
      ],
      "text/plain": [
       "LinearRegression()"
      ]
     },
     "execution_count": 18,
     "metadata": {},
     "output_type": "execute_result"
    }
   ],
   "source": [
    "# import the class\n",
    "from sklearn.linear_model import LinearRegression\n",
    "\n",
    "# instantiate the model (using the default parameters)\n",
    "model = LinearRegression()\n",
    "\n",
    "# fit the model with data\n",
    "model.fit(X_train, y_train)\n"
   ]
  },
  {
   "cell_type": "code",
   "execution_count": 19,
   "metadata": {},
   "outputs": [
    {
     "name": "stdout",
     "output_type": "stream",
     "text": [
      "coefficient of determination: 0.7066728917623899\n"
     ]
    }
   ],
   "source": [
    "# get the coefficient of determination\n",
    "r_sq = model.score(X_train, y_train)\n",
    "print(f\"coefficient of determination: {r_sq}\")"
   ]
  },
  {
   "cell_type": "code",
   "execution_count": 24,
   "metadata": {},
   "outputs": [
    {
     "data": {
      "text/plain": [
       "array([-0.00167231,  0.24691634])"
      ]
     },
     "execution_count": 24,
     "metadata": {},
     "output_type": "execute_result"
    }
   ],
   "source": [
    "# get the model coef\n",
    "model.coef_"
   ]
  },
  {
   "cell_type": "code",
   "execution_count": 20,
   "metadata": {},
   "outputs": [
    {
     "name": "stdout",
     "output_type": "stream",
     "text": [
      "intercept: 0.8419985756134027\n"
     ]
    }
   ],
   "source": [
    "# print intercept\n",
    "print(f\"intercept: {model.intercept_}\")"
   ]
  },
  {
   "cell_type": "code",
   "execution_count": 21,
   "metadata": {},
   "outputs": [
    {
     "name": "stdout",
     "output_type": "stream",
     "text": [
      "slope: [-0.00167231  0.24691634]\n"
     ]
    }
   ],
   "source": [
    "# print the slope\n",
    "print(f\"slope: {model.coef_}\")"
   ]
  },
  {
   "cell_type": "code",
   "execution_count": 27,
   "metadata": {},
   "outputs": [
    {
     "name": "stdout",
     "output_type": "stream",
     "text": [
      "y = -0.00167x + 0.84\n"
     ]
    }
   ],
   "source": [
    "# Retrieve coefficients and intercept\n",
    "coef = model.coef_[0]\n",
    "intercept = model.intercept_\n",
    "\n",
    "# Print linear regression equation\n",
    "print(f'y = {coef:.5f}x + {intercept:.2f}')"
   ]
  },
  {
   "cell_type": "code",
   "execution_count": 50,
   "metadata": {},
   "outputs": [
    {
     "name": "stdout",
     "output_type": "stream",
     "text": [
      "[1.00670178 1.02623675 0.84225942 ... 0.92368759 0.9206979  0.92383514]\n"
     ]
    }
   ],
   "source": [
    "# see what the predicted values are \n",
    "print(y_pred)"
   ]
  },
  {
   "cell_type": "code",
   "execution_count": 52,
   "metadata": {},
   "outputs": [
    {
     "name": "stdout",
     "output_type": "stream",
     "text": [
      "R-squared score: 0.71\n",
      "Mean squared error: 0.00\n",
      "Root mean squared error: 0.04\n"
     ]
    }
   ],
   "source": [
    "# get metrics to evaluate performance\n",
    "from sklearn.metrics import r2_score\n",
    "# Predict output values for testing data\n",
    "y_pred = model.predict(X_train)\n",
    "\n",
    "# Evaluate performance of the model on testing data\n",
    "r2 = r2_score(y_train, y_pred)\n",
    "mse = mean_squared_error(y_train, y_pred)\n",
    "rmse = np.sqrt(mse)\n",
    "print(f'R-squared score: {r2:.2f}')\n",
    "print(f'Mean squared error: {mse:.2f}')\n",
    "print(f'Root mean squared error: {rmse:.2f}')"
   ]
  },
  {
   "cell_type": "code",
   "execution_count": 73,
   "metadata": {},
   "outputs": [],
   "source": [
    "# add to this the predicted that is the equation from MASH paper\n",
    "X_train['MASH_CALC'] = X_train['MASHFRAC'].apply(lambda x: x ** (1/100))\n"
   ]
  },
  {
   "cell_type": "code",
   "execution_count": 84,
   "metadata": {},
   "outputs": [],
   "source": [
    "# add predictions to original df\n",
    "df = X_train.assign(MYCALC=y_pred)\n",
    "df = df.assign(IDY=data['IDY'])\n",
    "df = df.assign(COVERAGE = data['COV'])\n",
    "df['Difference_MashCalc'] = abs(df['IDY'] - df['new_column'])\n",
    "df['Difference_MyCalc'] = abs(df['IDY'] - df['C'])\n",
    "df.to_csv(\"Model_Results.csv\")"
   ]
  },
  {
   "cell_type": "markdown",
   "metadata": {},
   "source": [
    "# hypothesis : \n",
    "this model performs better \n",
    "returns values closer to the \"truth\"\n",
    "when dealing with samples that have low coverage, compared to the usual mash formula \n",
    "which doesn't consider coverage at all"
   ]
  }
 ],
 "metadata": {
  "kernelspec": {
   "display_name": "Python 3.10 (CS703f22)",
   "language": "python",
   "name": "python3.10_cs703"
  },
  "language_info": {
   "codemirror_mode": {
    "name": "ipython",
    "version": 3
   },
   "file_extension": ".py",
   "mimetype": "text/x-python",
   "name": "python",
   "nbconvert_exporter": "python",
   "pygments_lexer": "ipython3",
   "version": "3.10.4"
  },
  "varInspector": {
   "cols": {
    "lenName": 16,
    "lenType": 16,
    "lenVar": 40
   },
   "kernels_config": {
    "python": {
     "delete_cmd_postfix": "",
     "delete_cmd_prefix": "del ",
     "library": "var_list.py",
     "varRefreshCmd": "print(var_dic_list())"
    },
    "r": {
     "delete_cmd_postfix": ") ",
     "delete_cmd_prefix": "rm(",
     "library": "var_list.r",
     "varRefreshCmd": "cat(var_dic_list()) "
    }
   },
   "types_to_exclude": [
    "module",
    "function",
    "builtin_function_or_method",
    "instance",
    "_Feature"
   ],
   "window_display": false
  }
 },
 "nbformat": 4,
 "nbformat_minor": 4
}
